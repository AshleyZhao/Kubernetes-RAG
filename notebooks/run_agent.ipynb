{
 "cells": [
  {
   "cell_type": "code",
   "execution_count": 19,
   "id": "c59f311c",
   "metadata": {},
   "outputs": [],
   "source": [
    "from dotenv import load_dotenv\n",
    "import os\n",
    "load_dotenv(override=True) # take environment variables from .env.\n",
    "ai_foundry_endpoint = os.getenv(\"AI_FOUNDRY_ENDPOINT\")\n",
    "ai_agent_id = os.getenv(\"AI_AGENT_ID\")"
   ]
  },
  {
   "cell_type": "code",
   "execution_count": null,
   "id": "0a07e6c4",
   "metadata": {},
   "outputs": [
    {
     "name": "stdout",
     "output_type": "stream",
     "text": [
      "test\n"
     ]
    }
   ],
   "source": [
    "from azure.ai.projects import AIProjectClient\n",
    "from azure.identity import DefaultAzureCredential\n",
    "from azure.ai.agents.models import ListSortOrder\n",
    "\n",
    "print(\"test\")\n",
    "\n",
    "project = AIProjectClient(\n",
    "    credential=DefaultAzureCredential(),\n",
    "    endpoint=ai_foundry_endpoint)\n",
    "\n",
    "agent = project.agents.get_agent(ai_agent_id)"
   ]
  },
  {
   "cell_type": "code",
   "execution_count": 10,
   "id": "22774912",
   "metadata": {},
   "outputs": [
    {
     "name": "stdout",
     "output_type": "stream",
     "text": [
      "Created thread, ID: thread_1ImGDCxIuQ5ZUVwxLMCS80ch\n"
     ]
    }
   ],
   "source": [
    "thread = project.agents.threads.create()\n",
    "print(f\"Created thread, ID: {thread.id}\")"
   ]
  },
  {
   "cell_type": "code",
   "execution_count": 13,
   "id": "6202cbd7",
   "metadata": {},
   "outputs": [],
   "source": [
    "message = project.agents.messages.create(\n",
    "    thread_id=thread.id,\n",
    "    role=\"user\",\n",
    "    content=\"How to deploy pods?\"\n",
    ")"
   ]
  },
  {
   "cell_type": "code",
   "execution_count": 14,
   "id": "9ae048f8",
   "metadata": {},
   "outputs": [
    {
     "name": "stdout",
     "output_type": "stream",
     "text": [
      "MessageRole.USER: How to deploy pods?\n",
      "MessageRole.AGENT: To deploy pods in Kubernetes, you can create a deployment. Here’s an example of how to do it using `kubectl`:\n",
      "\n",
      "1. **Create a Deployment**:\n",
      "   You can create a deployment for an application, such as an nginx instance, by using the following command:\n",
      "   ```shell\n",
      "   kubectl create deployment --image=nginx nginx-app\n",
      "   ```\n",
      "   This command will create a deployment named `nginx-app` that runs nginx.\n",
      "\n",
      "2. **Expose the Deployment**:\n",
      "   After creating the deployment, you can expose it using a service:\n",
      "   ```shell\n",
      "   kubectl expose deployment nginx-app --port=80 --name=nginx-http\n",
      "   ```\n",
      "   This command creates a service named `nginx-http` and exposes port 80.\n",
      "\n",
      "3. **Run a Pod in the Foreground**:\n",
      "   If you want to run a pod directly in the foreground, you can use:\n",
      "   ```shell\n",
      "   kubectl run [-i] [--tty] --attach <name> --image=<image>\n",
      "   ```\n",
      "   Replace `<name>` with your desired pod name and `<image>` with the container image you want to run【5:1†source】【5:2†source】.\n"
     ]
    }
   ],
   "source": [
    "run = project.agents.runs.create_and_process(\n",
    "    thread_id=thread.id,\n",
    "    agent_id=agent.id)\n",
    "\n",
    "if run.status == \"failed\":\n",
    "    print(f\"Run failed: {run.last_error}\")\n",
    "else:\n",
    "    messages = project.agents.messages.list(thread_id=thread.id, order=ListSortOrder.ASCENDING)\n",
    "\n",
    "    for message in messages:\n",
    "        if message.text_messages:\n",
    "            print(f\"{message.role}: {message.text_messages[-1].text.value}\")"
   ]
  },
  {
   "cell_type": "code",
   "execution_count": 11,
   "id": "e142c76b",
   "metadata": {},
   "outputs": [],
   "source": [
    "def list_all_threads():\n",
    "    \"\"\"\n",
    "    Lists all active conversation threads for the project.\n",
    "    \"\"\"\n",
    "    print(\"Listing all active threads...\")\n",
    "    try:\n",
    "        threads = project.agents.threads.list()\n",
    "        if not threads:\n",
    "            print(\"No active threads found.\")\n",
    "        else:\n",
    "            for thread in threads:\n",
    "                print(f\" - Thread ID: {thread.id}\")\n",
    "        print(\"-\" * 20)\n",
    "    except Exception as e:\n",
    "        print(f\"An error occurred while listing threads: {e}\")"
   ]
  },
  {
   "cell_type": "code",
   "execution_count": 12,
   "id": "93937260",
   "metadata": {},
   "outputs": [
    {
     "name": "stdout",
     "output_type": "stream",
     "text": [
      "Listing all active threads...\n",
      " - Thread ID: thread_1ImGDCxIuQ5ZUVwxLMCS80ch\n",
      " - Thread ID: thread_5HmPXh1hvHRXzKL4UyH8yzQc\n",
      "--------------------\n"
     ]
    }
   ],
   "source": [
    "list_all_threads()"
   ]
  },
  {
   "cell_type": "code",
   "execution_count": null,
   "id": "0f83b2b1",
   "metadata": {},
   "outputs": [],
   "source": [
    "def delete_all_threads():\n",
    "    print(\"Deleting all active threads...\")\n",
    "    try:\n",
    "        threads = project.agents.threads.list()\n",
    "        if not threads:\n",
    "            print(\"No active threads found.\")\n",
    "        else:\n",
    "            for thread in threads:\n",
    "                if thread.id != \"thread_5HmPXh1hvHRXzKL4UyH8yzQc\":\n",
    "                    project.agents.threads.delete(thread.id)\n",
    "        print(\"-\" * 20)\n",
    "    except Exception as e:\n",
    "        print(f\"An error occurred while deleting threads: {e}\")"
   ]
  },
  {
   "cell_type": "code",
   "execution_count": 8,
   "id": "395fda20",
   "metadata": {},
   "outputs": [
    {
     "name": "stdout",
     "output_type": "stream",
     "text": [
      "Deleting all active threads...\n",
      "An error occurred while listing threads: (None) No thread found with id 'thread_uLFEtCxhUDir37sQpz76VI1u'.\n",
      "Code: None\n",
      "Message: No thread found with id 'thread_uLFEtCxhUDir37sQpz76VI1u'.\n"
     ]
    }
   ],
   "source": [
    "delete_all_threads()"
   ]
  },
  {
   "cell_type": "code",
   "execution_count": 5,
   "id": "7ecc4a7b",
   "metadata": {},
   "outputs": [],
   "source": [
    "project.agents.threads.delete(\"thread_h2kDGFJLe5uYmpexzL9gl6Zv\")"
   ]
  }
 ],
 "metadata": {
  "kernelspec": {
   "display_name": ".venv",
   "language": "python",
   "name": "python3"
  },
  "language_info": {
   "codemirror_mode": {
    "name": "ipython",
    "version": 3
   },
   "file_extension": ".py",
   "mimetype": "text/x-python",
   "name": "python",
   "nbconvert_exporter": "python",
   "pygments_lexer": "ipython3",
   "version": "3.13.7"
  }
 },
 "nbformat": 4,
 "nbformat_minor": 5
}
