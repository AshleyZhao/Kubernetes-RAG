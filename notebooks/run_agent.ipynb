{
 "cells": [
  {
   "cell_type": "code",
   "execution_count": 1,
   "id": "c59f311c",
   "metadata": {},
   "outputs": [],
   "source": [
    "from dotenv import load_dotenv\n",
    "import os\n",
    "load_dotenv(override=True) # take environment variables from .env.\n",
    "ai_foundry_endpoint = os.getenv(\"AI_FOUNDRY_ENDPOINT\")\n",
    "doc_agent_id = os.getenv(\"DOC_AGENT_ID\") #Optional. Gets the agent that only has the documentation.\n",
    "op_agent_id = os.getenv(\"OP_AGENT_ID\")"
   ]
  },
  {
   "cell_type": "code",
   "execution_count": 2,
   "id": "0a07e6c4",
   "metadata": {},
   "outputs": [
    {
     "name": "stdout",
     "output_type": "stream",
     "text": [
      "test\n"
     ]
    }
   ],
   "source": [
    "from azure.ai.projects import AIProjectClient\n",
    "from azure.identity import DefaultAzureCredential\n",
    "from azure.ai.agents.models import ListSortOrder\n",
    "\n",
    "print(\"test\")\n",
    "\n",
    "project = AIProjectClient(\n",
    "    credential=DefaultAzureCredential(),\n",
    "    endpoint=ai_foundry_endpoint)\n",
    "\n",
    "doc_agent = project.agents.get_agent(doc_agent_id)\n",
    "op_agent = project.agents.get_agent(op_agent_id)"
   ]
  },
  {
   "cell_type": "code",
   "execution_count": 3,
   "id": "22774912",
   "metadata": {},
   "outputs": [
    {
     "name": "stdout",
     "output_type": "stream",
     "text": [
      "Created thread, ID: thread_rItZTzSk9xaXJKTraDKaGzE2\n"
     ]
    }
   ],
   "source": [
    "thread = project.agents.threads.create()\n",
    "print(f\"Created thread, ID: {thread.id}\")"
   ]
  },
  {
   "cell_type": "code",
   "execution_count": 9,
   "id": "6202cbd7",
   "metadata": {},
   "outputs": [],
   "source": [
    "message = project.agents.messages.create(\n",
    "    thread_id=thread.id,\n",
    "    role=\"user\",\n",
    "    content=\"How to deploy pods?\"\n",
    ")"
   ]
  },
  {
   "cell_type": "code",
   "execution_count": 10,
   "id": "9ae048f8",
   "metadata": {},
   "outputs": [
    {
     "name": "stdout",
     "output_type": "stream",
     "text": [
      "MessageRole.USER: What's all the pods in the default namespace?\n",
      "MessageRole.AGENT: It seems I'm unable to access the tools needed to provide you the information about pods in the default namespace. Please try again later or use a different method to retrieve that information.\n",
      "MessageRole.USER: How to deploy pods?\n",
      "MessageRole.AGENT: To deploy pods in Kubernetes, you typically use a YAML manifest file that describes the desired state of the pods. Here are the steps to deploy a pod:\n",
      "\n",
      "1. **Create a YAML Manifest File**: Define the pod specifications in a YAML file. For example, create a file called `my-pod.yaml` with the following content:\n",
      "\n",
      "   ```yaml\n",
      "   apiVersion: v1\n",
      "   kind: Pod\n",
      "   metadata:\n",
      "     name: my-pod\n",
      "   spec:\n",
      "     containers:\n",
      "     - name: my-container\n",
      "       image: nginx\n",
      "       ports:\n",
      "       - containerPort: 80\n",
      "   ```\n",
      "\n",
      "   In this example:\n",
      "   - **apiVersion**: Version of the Kubernetes API to use.\n",
      "   - **kind**: Specifies the type of object (Pod).\n",
      "   - **metadata**: Contains the name and labels of the pod.\n",
      "   - **spec**: Describes the pod's desired state, including containers and their specifications.\n",
      "\n",
      "2. **Deploy the Pod**: Use the `kubectl apply` command to create the pod based on the manifest file.\n",
      "\n",
      "   ```bash\n",
      "   kubectl apply -f my-pod.yaml\n",
      "   ```\n",
      "\n",
      "3. **Verify the Deployment**: Check if the pod is running using the following command:\n",
      "\n",
      "   ```bash\n",
      "   kubectl get pods\n",
      "   ```\n",
      "\n",
      "   This command shows you the list of pods in your current namespace, including their status.\n",
      "\n",
      "### Additional Guidance\n",
      "- **Labels and Selectors**: Use labels to organize and select multiple pods. Labels provide a mechanism to group pods and can be used in service definitions.\n",
      "- **Deployment Objects**: For managing updates and scaling, consider using a Deployment resource instead of a standalone Pod. A Deployment allows you to ensure a specified number of pods are running at any time.\n",
      "\n",
      "### Example of Deployment Usage\n",
      "If you want to create a Deployment instead, your YAML might look like this:\n",
      "\n",
      "```yaml\n",
      "apiVersion: apps/v1\n",
      "kind: Deployment\n",
      "metadata:\n",
      "  name: my-deployment\n",
      "spec:\n",
      "  replicas: 2\n",
      "  selector:\n",
      "    matchLabels:\n",
      "      app: my-app\n",
      "  template:\n",
      "    metadata:\n",
      "      labels:\n",
      "        app: my-app\n",
      "    spec:\n",
      "      containers:\n",
      "      - name: my-container\n",
      "        image: nginx\n",
      "        ports:\n",
      "        - containerPort: 80\n",
      "```\n",
      "\n",
      "You can then deploy it similarly:\n",
      "\n",
      "```bash\n",
      "kubectl apply -f my-deployment.yaml\n",
      "```\n",
      "\n",
      "This will manage the desired state of your application, ensuring that the replicas are maintained even if pods fail.\n",
      "\n",
      "By following these steps, you can effectively create and manage pods in your Kubernetes cluster.\n"
     ]
    }
   ],
   "source": [
    "run = project.agents.runs.create_and_process(\n",
    "    thread_id=thread.id,\n",
    "    agent_id=doc_agent.id)\n",
    "\n",
    "if run.status == \"failed\":\n",
    "    print(f\"Run failed: {run.last_error}\")\n",
    "else:\n",
    "    messages = project.agents.messages.list(thread_id=thread.id, order=ListSortOrder.ASCENDING)\n",
    "\n",
    "    for message in messages:\n",
    "        if message.text_messages:\n",
    "            print(f\"{message.role}: {message.text_messages[-1].text.value}\")"
   ]
  },
  {
   "cell_type": "code",
   "execution_count": 11,
   "id": "e142c76b",
   "metadata": {},
   "outputs": [],
   "source": [
    "def list_all_threads():\n",
    "    \"\"\"\n",
    "    Lists all active conversation threads for the project.\n",
    "    \"\"\"\n",
    "    print(\"Listing all active threads...\")\n",
    "    try:\n",
    "        threads = project.agents.threads.list()\n",
    "        if not threads:\n",
    "            print(\"No active threads found.\")\n",
    "        else:\n",
    "            for thread in threads:\n",
    "                print(f\" - Thread ID: {thread.id}\")\n",
    "        print(\"-\" * 20)\n",
    "    except Exception as e:\n",
    "        print(f\"An error occurred while listing threads: {e}\")"
   ]
  },
  {
   "cell_type": "code",
   "execution_count": 12,
   "id": "93937260",
   "metadata": {},
   "outputs": [
    {
     "name": "stdout",
     "output_type": "stream",
     "text": [
      "Listing all active threads...\n",
      " - Thread ID: thread_rItZTzSk9xaXJKTraDKaGzE2\n",
      " - Thread ID: thread_nio6rIFGQnzuf0M0JcE914Gy\n",
      " - Thread ID: thread_eCr5qY0ynTj1VVCRWPHAN3EC\n",
      " - Thread ID: thread_PkbTEPkUAR6sMIEt7sRV25WA\n",
      " - Thread ID: thread_cn4SZlZHaMTjI2CXmT0jxNCJ\n",
      " - Thread ID: thread_yyG37XrC4QLR1lQQC1GbwUqT\n",
      " - Thread ID: thread_Fblchzyv4ij4HHJXa5jIwno2\n",
      " - Thread ID: thread_gSenkwbmHRQmKNh0ilEp0kf7\n",
      " - Thread ID: thread_e7tr2NLmJHJDYbUX5Vmswl0k\n",
      " - Thread ID: thread_RRBelROjq0iiku52MWU3jXe1\n",
      " - Thread ID: thread_qpat5DHhIFsvafNSMcHGvQlV\n",
      " - Thread ID: thread_MnqtONdoLdL6soCUf7Hd40nF\n",
      " - Thread ID: thread_PDtMTWi7phbuyoiQGMDCj7Vl\n",
      " - Thread ID: thread_A4WrD8QrieL5y4jZ1o64RBoD\n",
      " - Thread ID: thread_qvL15z2ClCP6PEkOpbJil8CE\n",
      " - Thread ID: thread_1ImGDCxIuQ5ZUVwxLMCS80ch\n",
      " - Thread ID: thread_5HmPXh1hvHRXzKL4UyH8yzQc\n",
      "--------------------\n"
     ]
    }
   ],
   "source": [
    "list_all_threads()"
   ]
  },
  {
   "cell_type": "code",
   "execution_count": 13,
   "id": "0f83b2b1",
   "metadata": {},
   "outputs": [],
   "source": [
    "def delete_all_threads():\n",
    "    print(\"Deleting all active threads...\")\n",
    "    try:\n",
    "        threads = project.agents.threads.list()\n",
    "        if not threads:\n",
    "            print(\"No active threads found.\")\n",
    "        else:\n",
    "            for thread in threads:\n",
    "                if thread.id != \"thread_5HmPXh1hvHRXzKL4UyH8yzQc\":\n",
    "                    project.agents.threads.delete(thread.id)\n",
    "        print(\"-\" * 20)\n",
    "    except Exception as e:\n",
    "        print(f\"An error occurred while deleting threads: {e}\")"
   ]
  },
  {
   "cell_type": "code",
   "execution_count": 14,
   "id": "395fda20",
   "metadata": {},
   "outputs": [
    {
     "name": "stdout",
     "output_type": "stream",
     "text": [
      "Deleting all active threads...\n",
      "--------------------\n"
     ]
    }
   ],
   "source": [
    "delete_all_threads()"
   ]
  },
  {
   "cell_type": "markdown",
   "id": "278ffc28",
   "metadata": {},
   "source": [
    "# Add tools"
   ]
  },
  {
   "cell_type": "code",
   "execution_count": 15,
   "id": "7f8626d2",
   "metadata": {},
   "outputs": [
    {
     "name": "stdout",
     "output_type": "stream",
     "text": [
      "Tool name: list_kubernetes_pods\n",
      "Description: A tool to list all pods in a given Kubernetes namespace (default: \"default\"). ONLY use when the user is clearly requesting an action like 'list pods' or 'please list pods'. DO NOT use when the user is asking for an explanation or instructions\n",
      "\n",
      "\n",
      "Args:\n",
      "    namespace (str): The namespace to list pods from. Defaults to \"default\".\n",
      "\n",
      "Returns:\n",
      "    str: A formatted list of pod names and statuses, or an error message.\n",
      "---\n",
      "Tool name: restart_all_pods\n",
      "Description: Restart all pods in a given Kubernetes namespace. ONLY use when the user is clearly requesting an action like 'restart pods'.\n",
      "\n",
      "Args:\n",
      "    namespace (str): Namespace in which to restart all pods. Defaults to \"default\".\n",
      "    confirm (bool): If True, actually deletes the pods. If False, just previews which pods would be restarted.\n",
      "\n",
      "Returns:\n",
      "    str: Preview of pods to be restarted, or success/error message.\n",
      "---\n"
     ]
    }
   ],
   "source": [
    "import sys\n",
    "import os\n",
    "sys.path.append(os.path.abspath(\"..\"))\n",
    "from app import list_kubernetes_pods, restart_all_pods\n",
    "\n",
    "op_agent.tools = [list_kubernetes_pods, restart_all_pods]\n",
    "op_agent.update(op_agent)\n",
    "\n",
    "for tool in op_agent.tools:\n",
    "    print(f\"Tool name: {tool.name}\")\n",
    "    print(f\"Description: {tool.description}\")\n",
    "    print(\"---\")"
   ]
  },
  {
   "cell_type": "code",
   "execution_count": 5,
   "id": "256a9b60",
   "metadata": {},
   "outputs": [
    {
     "name": "stdout",
     "output_type": "stream",
     "text": [
      "Kubernetes configuration not found. Please ensure your ~/.kube/config file is set up correctly.\n"
     ]
    }
   ],
   "source": [
    "# The decorator returns a Tool instance\n",
    "tool_instance = list_kubernetes_pods\n",
    "\n",
    "# Invoke it directly\n",
    "result = tool_instance.invoke(\"What's all the pods in the environment?\")\n",
    "print(result)"
   ]
  },
  {
   "cell_type": "code",
   "execution_count": 7,
   "id": "359eb286",
   "metadata": {},
   "outputs": [],
   "source": [
    "message = project.agents.messages.create(\n",
    "    thread_id=thread.id,\n",
    "    role=\"user\",\n",
    "    content=\"What's all the pods in the default namespace?\"\n",
    ")"
   ]
  },
  {
   "cell_type": "code",
   "execution_count": 8,
   "id": "72bf5feb",
   "metadata": {},
   "outputs": [
    {
     "name": "stdout",
     "output_type": "stream",
     "text": [
      "MessageRole.USER: What's all the pods in the default namespace?\n",
      "MessageRole.AGENT: It seems I'm unable to access the tools needed to provide you the information about pods in the default namespace. Please try again later or use a different method to retrieve that information.\n"
     ]
    }
   ],
   "source": [
    "run = project.agents.runs.create_and_process(\n",
    "    thread_id=thread.id,\n",
    "    agent_id=op_agent.id)\n",
    "\n",
    "if run.status == \"failed\":\n",
    "    print(f\"Run failed: {run.last_error}\")\n",
    "else:\n",
    "    messages = project.agents.messages.list(thread_id=thread.id, order=ListSortOrder.ASCENDING)\n",
    "\n",
    "    for message in messages:\n",
    "        if message.text_messages:\n",
    "            print(f\"{message.role}: {message.text_messages[-1].text.value}\")"
   ]
  },
  {
   "cell_type": "markdown",
   "id": "14a58b58",
   "metadata": {},
   "source": []
  }
 ],
 "metadata": {
  "kernelspec": {
   "display_name": ".venv",
   "language": "python",
   "name": "python3"
  },
  "language_info": {
   "codemirror_mode": {
    "name": "ipython",
    "version": 3
   },
   "file_extension": ".py",
   "mimetype": "text/x-python",
   "name": "python",
   "nbconvert_exporter": "python",
   "pygments_lexer": "ipython3",
   "version": "3.13.7"
  }
 },
 "nbformat": 4,
 "nbformat_minor": 5
}
